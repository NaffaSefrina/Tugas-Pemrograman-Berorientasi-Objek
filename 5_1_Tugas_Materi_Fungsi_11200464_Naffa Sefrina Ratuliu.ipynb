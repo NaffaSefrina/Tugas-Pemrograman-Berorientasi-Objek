{
 "cells": [
  {
   "cell_type": "code",
   "execution_count": 5,
   "id": "804075ea",
   "metadata": {},
   "outputs": [],
   "source": [
    "# Soal 4.1.1\n",
    "\n",
    "#membuat fungsi luas limas segi empat\n",
    "\n",
    "def luas_limas_segi_empat(Alas_limas, Tinggi_limas):\n",
    "    Alas_limas = int(input(\"Masukkan Luas Alas: \"))\n",
    "    Tinggi_limas = int(input(\"Masukkan Tinggi_limas: \"))\n",
    "\n",
    "    luas = (Alas_limas*Alas_limas)+(4*0.5*Alas_limas*Tinggi_limas)\n",
    "    return luas\n",
    "\n",
    "    print(\"Luas : %d\" % luas_limas_segi_empat(Alas_limas, Tinggi_limas))"
   ]
  }
 ],
 "metadata": {
  "kernelspec": {
   "display_name": "Python 3 (ipykernel)",
   "language": "python",
   "name": "python3"
  },
  "language_info": {
   "codemirror_mode": {
    "name": "ipython",
    "version": 3
   },
   "file_extension": ".py",
   "mimetype": "text/x-python",
   "name": "python",
   "nbconvert_exporter": "python",
   "pygments_lexer": "ipython3",
   "version": "3.9.5"
  }
 },
 "nbformat": 4,
 "nbformat_minor": 5
}

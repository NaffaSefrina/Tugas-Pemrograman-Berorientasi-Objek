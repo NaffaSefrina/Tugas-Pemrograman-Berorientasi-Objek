{
 "cells": [
  {
   "cell_type": "code",
   "execution_count": 1,
   "id": "1508492f",
   "metadata": {},
   "outputs": [
    {
     "name": "stdout",
     "output_type": "stream",
     "text": [
      "Ini adalah element count :  1\n",
      "Ini adalah element count :  2\n",
      "Ini adalah element count :  3\n",
      "Ini adalah element count :  4\n",
      "Ini adalah element count :  5\n"
     ]
    }
   ],
   "source": [
    "# Jawaban Tugas 3.2.1\n",
    "\n",
    "count=[1,2,3,4,5] #elemen list\n",
    "\n",
    "for number in count: #looping untuk menampilkan semua elemen pada count\n",
    "    print(\"Ini adalah element count : \", number) #menampilkan elemen list pada count"
   ]
  },
  {
   "cell_type": "code",
   "execution_count": 2,
   "id": "050aa3e0",
   "metadata": {},
   "outputs": [
    {
     "name": "stdout",
     "output_type": "stream",
     "text": [
      "Angka :  1\n",
      "Angka :  2\n",
      "Angka :  3\n",
      "Angka :  4\n",
      "Angka :  5\n",
      "Angka :  6\n",
      "Angka :  7\n",
      "Angka :  8\n",
      "Angka :  9\n",
      "Angka :  10\n"
     ]
    }
   ],
   "source": [
    "#Jawaban Tugas 3.2.2.1\n",
    "\n",
    "angka=[1,2,3,4,5,6,7,8,9,10]\n",
    "\n",
    "for number in angka: \n",
    "    print(\"Angka : \", number) "
   ]
  },
  {
   "cell_type": "code",
   "execution_count": 3,
   "id": "402479d3",
   "metadata": {},
   "outputs": [
    {
     "name": "stdout",
     "output_type": "stream",
     "text": [
      "Angka :  -20\n",
      "Angka :  -21\n",
      "Angka :  -22\n",
      "Angka :  -23\n",
      "Angka :  -24\n",
      "Angka :  -25\n",
      "Angka :  -26\n",
      "Angka :  -27\n",
      "Angka :  -28\n",
      "Angka :  -29\n",
      "Angka :  -30\n",
      "Angka :  -31\n",
      "Angka :  -32\n",
      "Angka :  -33\n",
      "Angka :  -34\n",
      "Angka :  -35\n",
      "Angka :  -36\n",
      "Angka :  -37\n",
      "Angka :  -38\n",
      "Angka :  -39\n",
      "Angka :  -40\n",
      "Angka :  -41\n",
      "Angka :  -42\n",
      "Angka :  -43\n",
      "Angka :  -44\n",
      "Angka :  -45\n",
      "Angka :  -46\n",
      "Angka :  -47\n",
      "Angka :  -48\n",
      "Angka :  -49\n",
      "Angka :  -50\n"
     ]
    }
   ],
   "source": [
    "#Jawaban Tugas 3.2.2.2\n",
    "\n",
    "angka=[-20,-21,-22,-23,-24,-25,-26,-27,-28,-29,-30,-31,-32,-33,-34,-35,-36,-37,-38,-39,-40,-41,-42,-43,-44,-45,-46,-47,-48,-49,-50] \n",
    "\n",
    "for number in angka: \n",
    "    print(\"Angka : \", number) "
   ]
  },
  {
   "cell_type": "code",
   "execution_count": 4,
   "id": "f0fda74d",
   "metadata": {},
   "outputs": [
    {
     "name": "stdout",
     "output_type": "stream",
     "text": [
      "Angka ganjil 1\n",
      "Angka genap 2\n",
      "Angka ganjil 3\n",
      "Angka genap 4\n",
      "Angka ganjil 5\n",
      "Angka genap 6\n",
      "Angka ganjil 7\n",
      "Angka genap 8\n",
      "Angka ganjil 9\n",
      "Angka genap 10\n"
     ]
    }
   ],
   "source": [
    "#Jawaban Tugas 3.2.2.3\n",
    "\n",
    "for i in range(1,11):\n",
    "    if (i%2==0):\n",
    "        print(\"Angka genap\", i)\n",
    "    else:\n",
    "        print(\"Angka ganjil\", i)"
   ]
  },
  {
   "cell_type": "code",
   "execution_count": null,
   "id": "13293ff9",
   "metadata": {},
   "outputs": [],
   "source": []
  }
 ],
 "metadata": {
  "kernelspec": {
   "display_name": "Python 3 (ipykernel)",
   "language": "python",
   "name": "python3"
  },
  "language_info": {
   "codemirror_mode": {
    "name": "ipython",
    "version": 3
   },
   "file_extension": ".py",
   "mimetype": "text/x-python",
   "name": "python",
   "nbconvert_exporter": "python",
   "pygments_lexer": "ipython3",
   "version": "3.9.5"
  }
 },
 "nbformat": 4,
 "nbformat_minor": 5
}

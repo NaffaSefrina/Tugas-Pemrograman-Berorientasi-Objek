{
 "cells": [
  {
   "cell_type": "code",
   "execution_count": 1,
   "id": "fbf21a67",
   "metadata": {},
   "outputs": [
    {
     "name": "stdout",
     "output_type": "stream",
     "text": [
      "15\n",
      "Hasil penjumlahan a dan b adalah 15\n",
      "5\n",
      "Selisih dari a dan b adalah 5\n",
      "50\n",
      "Hasil perkalian dari a dan b adalah 50\n",
      "2.0\n",
      "Hasil pembagian dari a dan b adalah 2\n",
      "0\n",
      "Sisa bagi dari a dan b adalah 0\n",
      "100000\n",
      "Hasil pangkat dari a dan b adalah 100000\n"
     ]
    }
   ],
   "source": [
    "##Jawaban Tugas Praktek 3.1\n",
    "\n",
    "# Pengisian nilai a dengan 10 dan b dengan nilai 5\n",
    "a = 10\n",
    "b = 5\n",
    "\n",
    "# Operator penjumlahan\n",
    "c = a + b\n",
    "print(10+5) \n",
    "print(\"Hasil penjumlahan a dan b adalah\", 15)\n",
    "\n",
    "# Operator Pengurangan\n",
    "c = a - b\n",
    "print(10-5)\n",
    "print(\"Selisih dari a dan b adalah\", 5)\n",
    "\n",
    "# Operator Perkalian\n",
    "c = a * b\n",
    "print(10*5)\n",
    "print(\"Hasil perkalian dari a dan b adalah\", 50)\n",
    "\n",
    "# Operator Pembagian\n",
    "c = a / b\n",
    "print(10/5)\n",
    "print(\"Hasil pembagian dari a dan b adalah\", 2)\n",
    "\n",
    "# Operator Sisa Bagi\n",
    "c = a % b\n",
    "print(10%5)\n",
    "print(\"Sisa bagi dari a dan b adalah\", 0)\n",
    "\n",
    "# Operator Pangkat\n",
    "c = a ** b\n",
    "print(10**5)\n",
    "print(\"Hasil pangkat dari a dan b adalah\", 100000)"
   ]
  }
 ],
 "metadata": {
  "kernelspec": {
   "display_name": "Python 3 (ipykernel)",
   "language": "python",
   "name": "python3"
  },
  "language_info": {
   "codemirror_mode": {
    "name": "ipython",
    "version": 3
   },
   "file_extension": ".py",
   "mimetype": "text/x-python",
   "name": "python",
   "nbconvert_exporter": "python",
   "pygments_lexer": "ipython3",
   "version": "3.9.5"
  }
 },
 "nbformat": 4,
 "nbformat_minor": 5
}

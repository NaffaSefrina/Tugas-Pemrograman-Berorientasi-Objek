{
  "cells": [
    {
      "cell_type": "markdown",
      "metadata": {
        "id": "dGIpQt4RTjGu"
      },
      "source": [
        "## NIM  : 11200464\n",
        "## NAMA : Naffa Sefrina Ratuliu\n",
        "## JURUSAN : Sistem Informasi\n"
      ]
    },
    {
      "cell_type": "markdown",
      "source": [
        "# Tugas - Fungsi\n",
        "## Tujuan & Manfaat\n",
        "Pada praktikum 10 - Fungsi, mahasiswa diharapkan:\n",
        "   1. Mahasiswa mengerti syntax operator pada python\n",
        "   2. Mahasiswa dapat menjalankan program python menggunakan IDE\n",
        "   3. Mahasiswa mengerti konsep dari Fungsi pada python\n",
        "   4. Mahasiswa dapat menerapkan dalam program"
      ],
      "metadata": {
        "id": "2NTI-ytzglfY"
      }
    },
    {
      "cell_type": "markdown",
      "metadata": {
        "id": "CJ4AgF8rTjHt"
      },
      "source": [
        "Fungsi adalah blok kode terorganisir dan dapat digunakan kembali yang digunakan untuk melakukan sebuah tindakan/action. Fungsi memberikan modularitas yang lebih baik untuk aplikasi Anda dan tingkat penggunaan kode yang tinggi.\n",
        "\n",
        "### Mendefinisikan Fungsi Python\n",
        "\n",
        "Anda dapat menentukan fungsi untuk menyediakan fungsionalitas yang dibutuhkan. Berikut adalah aturan sederhana untuk mendefinisikan fungsi dengan Python.\n",
        "\n",
        "- Fungsi blok dimulai dengan def kata kunci diikuti oleh nama fungsi dan tanda kurung (()).\n",
        "- Setiap parameter masukan atau argumen harus ditempatkan di dalam tanda kurung ini. Anda juga dapat menentukan parameter di dalam tanda kurung ini.\n",
        "- Pernyataan pertama dari sebuah fungsi dapat berupa pernyataan opsional - string dokumentasi fungsi atau docstring.\n",
        "- Blok kode dalam setiap fungsi dimulai dengan titik dua (:) dan indentasi.\n",
        "- Pernyataan kembali [ekspresi] keluar dari sebuah fungsi, secara opsional menyampaikan kembali ekspresi ke pemanggil. Pernyataan pengembalian tanpa argumen sama dengan return None.\n",
        "\n",
        "## JAWABAN TUGAS :"
      ]
    },
    {
      "cell_type": "code",
      "source": [
        "#JAWAB\n",
        "\n",
        "#membuat fungsi volume limas segi lima\n",
        "\n",
        "print(\"Menghitung volume limas segi lima\")\n",
        "luas_alas = int(input(\"Masukkan Luas Alas: \"))\n",
        "tinggi = int(input(\"Masukkan Tinggi Limas: \"))\n",
        "\n",
        "def volume(luas_alas, tinggi):\n",
        "    volume = 1/3 * luas_alas * tinggi\n",
        "    return volume\n",
        "\n",
        "print(\"Jadi limas segi lima dengan luas_alas*tinggi:{}, dibagi:{}\\nMempunyai volume:{}\".format(luas_alas*tinggi,3, volume(1/3*luas_alas*tinggi,3)))"
      ],
      "metadata": {
        "id": "V0Drjsb_h1KF",
        "colab": {
          "base_uri": "https://localhost:8080/"
        },
        "outputId": "284e4fb3-b2a2-4424-bee4-b56808816c22"
      },
      "execution_count": 41,
      "outputs": [
        {
          "output_type": "stream",
          "name": "stdout",
          "text": [
            "Menghitung volume limas segi lima\n",
            "Masukkan Luas Alas: 10\n",
            "Masukkan Tinggi Limas: 20\n",
            "Jadi limas segi lima dengan luas_alas*tinggi:200, dibagi:3\n",
            "Mempunyai volume:66.66666666666666\n"
          ]
        }
      ]
    }
  ],
  "metadata": {
    "kernelspec": {
      "display_name": "Python 3",
      "language": "python",
      "name": "python3"
    },
    "language_info": {
      "codemirror_mode": {
        "name": "ipython",
        "version": 3
      },
      "file_extension": ".py",
      "mimetype": "text/x-python",
      "name": "python",
      "nbconvert_exporter": "python",
      "pygments_lexer": "ipython3",
      "version": "3.7.7"
    },
    "colab": {
      "name": "Lembar_Jawab_python_function_11200464_Naffa Sefrina Ratuliu.ipynb",
      "provenance": [],
      "collapsed_sections": []
    }
  },
  "nbformat": 4,
  "nbformat_minor": 0
}
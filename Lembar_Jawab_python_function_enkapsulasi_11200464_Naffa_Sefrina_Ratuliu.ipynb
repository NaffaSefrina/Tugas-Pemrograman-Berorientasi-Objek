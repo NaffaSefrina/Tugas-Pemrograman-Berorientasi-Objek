{
  "cells": [
    {
      "cell_type": "markdown",
      "metadata": {
        "id": "dGIpQt4RTjGu"
      },
      "source": [
        "## NIM  : 11200464\n",
        "## NAMA : Naffa Sefrina Ratuliu\n",
        "## JURUSAN : Sistem Informasi\n"
      ]
    },
    {
      "cell_type": "markdown",
      "source": [
        "# Tugas - Fungsi\n",
        "## Tujuan & Manfaat\n",
        "Pada praktikum 10 - Fungsi, mahasiswa diharapkan:\n",
        "   1. Mahasiswa mengerti syntax operator pada python\n",
        "   2. Mahasiswa dapat menjalankan program python menggunakan IDE\n",
        "   3. Mahasiswa mengerti konsep dari Fungsi pada python\n",
        "   4. Mahasiswa dapat menerapkan dalam program"
      ],
      "metadata": {
        "id": "2NTI-ytzglfY"
      }
    },
    {
      "cell_type": "markdown",
      "metadata": {
        "id": "CJ4AgF8rTjHt"
      },
      "source": [
        "Fungsi adalah blok kode terorganisir dan dapat digunakan kembali yang digunakan untuk melakukan sebuah tindakan/action. Fungsi memberikan modularitas yang lebih baik untuk aplikasi Anda dan tingkat penggunaan kode yang tinggi.\n",
        "\n",
        "### Mendefinisikan Fungsi Python\n",
        "\n",
        "Anda dapat menentukan fungsi untuk menyediakan fungsionalitas yang dibutuhkan. Berikut adalah aturan sederhana untuk mendefinisikan fungsi dengan Python.\n",
        "\n",
        "- Fungsi blok dimulai dengan def kata kunci diikuti oleh nama fungsi dan tanda kurung (()).\n",
        "- Setiap parameter masukan atau argumen harus ditempatkan di dalam tanda kurung ini. Anda juga dapat menentukan parameter di dalam tanda kurung ini.\n",
        "- Pernyataan pertama dari sebuah fungsi dapat berupa pernyataan opsional - string dokumentasi fungsi atau docstring.\n",
        "- Blok kode dalam setiap fungsi dimulai dengan titik dua (:) dan indentasi.\n",
        "- Pernyataan kembali [ekspresi] keluar dari sebuah fungsi, secara opsional menyampaikan kembali ekspresi ke pemanggil. Pernyataan pengembalian tanpa argumen sama dengan return None.\n",
        "\n",
        "## JAWABAN TUGAS :"
      ]
    },
    {
      "cell_type": "code",
      "source": [
        "#JAWAB\n",
        "\n",
        "class limas_segilima:\n",
        "\n",
        "  def __init__(self, luas_alas, tinggi):\n",
        "    self.luas_alas = luas_alas\n",
        "    self.tinggi = tinggi\n",
        "    self.volume = luas_alas * tinggi / 3\n",
        "\n",
        "volume = limas_segilima(10, 20)\n",
        "\n",
        "print(f'luas_alas: {volume.luas_alas}')\n",
        "print(f'tinggi: {volume.tinggi}')\n",
        "print(f'volume: {volume.volume}')"
      ],
      "metadata": {
        "id": "V0Drjsb_h1KF",
        "colab": {
          "base_uri": "https://localhost:8080/"
        },
        "outputId": "a9cd3a4d-da06-4e3b-dc79-2493bd9c99d1"
      },
      "execution_count": 3,
      "outputs": [
        {
          "output_type": "stream",
          "name": "stdout",
          "text": [
            "luas_alas: 10\n",
            "tinggi: 20\n",
            "volume: 66.66666666666667\n"
          ]
        }
      ]
    }
  ],
  "metadata": {
    "kernelspec": {
      "display_name": "Python 3",
      "language": "python",
      "name": "python3"
    },
    "language_info": {
      "codemirror_mode": {
        "name": "ipython",
        "version": 3
      },
      "file_extension": ".py",
      "mimetype": "text/x-python",
      "name": "python",
      "nbconvert_exporter": "python",
      "pygments_lexer": "ipython3",
      "version": "3.7.7"
    },
    "colab": {
      "name": "Lembar_Jawab_python_function_enkapsulasi_11200464_Naffa Sefrina Ratuliu.ipynb",
      "provenance": [],
      "collapsed_sections": []
    }
  },
  "nbformat": 4,
  "nbformat_minor": 0
}
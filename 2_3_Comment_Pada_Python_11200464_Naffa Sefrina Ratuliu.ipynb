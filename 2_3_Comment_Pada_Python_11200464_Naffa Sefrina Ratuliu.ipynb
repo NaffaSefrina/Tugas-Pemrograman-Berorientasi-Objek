{
 "cells": [
  {
   "cell_type": "code",
   "execution_count": 1,
   "id": "4a84389c",
   "metadata": {},
   "outputs": [
    {
     "name": "stdout",
     "output_type": "stream",
     "text": [
      "Ini adalah sebuah baris kode\n"
     ]
    }
   ],
   "source": [
    "print(\"Ini adalah sebuah baris kode\")#ini adalah contoh comment dan tidak akan tercetak"
   ]
  },
  {
   "cell_type": "code",
   "execution_count": 2,
   "id": "4c6625c0",
   "metadata": {},
   "outputs": [
    {
     "name": "stdout",
     "output_type": "stream",
     "text": [
      "25\n",
      "20\n"
     ]
    }
   ],
   "source": [
    "print(10*2+5) #fungsi matematika\n",
    "print(\"20\") #fungsi mencetak kalimat"
   ]
  },
  {
   "cell_type": "code",
   "execution_count": 3,
   "id": "afac6ed1",
   "metadata": {},
   "outputs": [
    {
     "name": "stdout",
     "output_type": "stream",
     "text": [
      "Naffa Sefrina Ratuliu\n",
      "11200464\n"
     ]
    }
   ],
   "source": [
    "print(\"Naffa Sefrina Ratuliu\") #ini nama saya\n",
    "print(11200464) #ini NIM saya"
   ]
  }
 ],
 "metadata": {
  "kernelspec": {
   "display_name": "Python 3 (ipykernel)",
   "language": "python",
   "name": "python3"
  },
  "language_info": {
   "codemirror_mode": {
    "name": "ipython",
    "version": 3
   },
   "file_extension": ".py",
   "mimetype": "text/x-python",
   "name": "python",
   "nbconvert_exporter": "python",
   "pygments_lexer": "ipython3",
   "version": "3.9.5"
  }
 },
 "nbformat": 4,
 "nbformat_minor": 5
}

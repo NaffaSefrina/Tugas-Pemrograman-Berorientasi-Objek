{
 "cells": [
  {
   "cell_type": "code",
   "execution_count": 1,
   "id": "01a05a13",
   "metadata": {},
   "outputs": [
    {
     "name": "stdout",
     "output_type": "stream",
     "text": [
      "Nilai i kurang dari 7\n",
      "Nilai i kurang dari 7 dan kurang dari 3\n"
     ]
    }
   ],
   "source": [
    "##Jawaban Tugas 3.1\n",
    "\n",
    "i=2\n",
    "if (i<7):\n",
    "    print(\"Nilai i kurang dari 7\")\n",
    "    if (i<3):\n",
    "        print(\"Nilai i kurang dari 7 dan kurang dari 3\")\n",
    "    else:\n",
    "        print(\"Nilai i lebih dari 7 dan lebih dari 3\")"
   ]
  }
 ],
 "metadata": {
  "kernelspec": {
   "display_name": "Python 3 (ipykernel)",
   "language": "python",
   "name": "python3"
  },
  "language_info": {
   "codemirror_mode": {
    "name": "ipython",
    "version": 3
   },
   "file_extension": ".py",
   "mimetype": "text/x-python",
   "name": "python",
   "nbconvert_exporter": "python",
   "pygments_lexer": "ipython3",
   "version": "3.9.5"
  }
 },
 "nbformat": 4,
 "nbformat_minor": 5
}

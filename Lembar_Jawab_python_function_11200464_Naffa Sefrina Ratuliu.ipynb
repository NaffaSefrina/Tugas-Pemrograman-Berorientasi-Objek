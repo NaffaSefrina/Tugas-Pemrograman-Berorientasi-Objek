{
 "cells": [
  {
   "cell_type": "code",
   "execution_count": 1,
   "id": "56c72b30",
   "metadata": {},
   "outputs": [
    {
     "name": "stdout",
     "output_type": "stream",
     "text": [
      "Menghitung volume limas segi lima\n",
      "Masukkan Luas Alas: 10\n",
      "Masukkan Tinggi Limas: 10\n",
      "Jadi limas segi lima dengan luas_alas*tinggi:100, dibagi:3\n",
      "Mempunyai volume:33.33333333333333\n"
     ]
    }
   ],
   "source": [
    "#JAWAB\n",
    "\n",
    "#membuat fungsi volume limas segi lima\n",
    "\n",
    "print(\"Menghitung volume limas segi lima\")\n",
    "luas_alas = int(input(\"Masukkan Luas Alas: \"))\n",
    "tinggi = int(input(\"Masukkan Tinggi Limas: \"))\n",
    "\n",
    "def volume(luas_alas, tinggi):\n",
    "    volume = 1/3 * luas_alas * tinggi\n",
    "    return volume\n",
    "\n",
    "print(\"Jadi limas segi lima dengan luas_alas*tinggi:{}, dibagi:{}\\nMempunyai volume:{}\".format(luas_alas*tinggi,3, volume(1/3*luas_alas*tinggi,3)))"
   ]
  }
 ],
 "metadata": {
  "kernelspec": {
   "display_name": "Python 3 (ipykernel)",
   "language": "python",
   "name": "python3"
  },
  "language_info": {
   "codemirror_mode": {
    "name": "ipython",
    "version": 3
   },
   "file_extension": ".py",
   "mimetype": "text/x-python",
   "name": "python",
   "nbconvert_exporter": "python",
   "pygments_lexer": "ipython3",
   "version": "3.9.5"
  }
 },
 "nbformat": 4,
 "nbformat_minor": 5
}
